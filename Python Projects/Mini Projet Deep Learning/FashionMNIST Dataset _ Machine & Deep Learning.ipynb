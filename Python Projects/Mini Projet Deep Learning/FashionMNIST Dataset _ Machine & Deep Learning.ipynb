{
 "cells": [
  {
   "cell_type": "markdown",
   "metadata": {
    "id": "Cora1PGYXlRP"
   },
   "source": [
    "# Classification d'images de vêtements Using Deep Neural Network\n",
    "\n",
    "Dataset: https://www.tensorflow.org/datasets/catalog/fashion_mnist\n",
    "\n",
    "Fashion MNIST est un jeu de données qui contient 70 000 images en niveaux de gris répartie sur 1 des 10 catégories. Les images montrent des vêtements, d'articles de Zalando , en basse résolution (28 x 28 pixels). La base de données est repartie en un ensemble de 60.000 exemples d'apprentissage et d'un ensemble de 10.000 exemples de test. Cette base de données vise à remplacer le jeu de données MNIST (de chiffres écrit à la main) plus assez complexe dans une logique d'apprentissage automatique.\n",
    "\n",
    "L'objectif de ce mini projet est la prédiction de la variable cible en utilisant dans un premier temps les algorithmes de Machine Learning traditionnels et dans un second lieu les différentes architectures réseaux de neurones afin de pouvoir comparer les performances obtenues pour les différents modèles utilisés.\n",
    "\n",
    "Ci-après les différentes étapes de ce projet:\n",
    "\n",
    "1. Importation et exploration du dataset\n",
    "\n",
    "2. Utilisation des différents algorithmes Machine Learning traditionnels:\n",
    "\n",
    "   2.1 Traditional Machine Learning (Régresssion Logistique)\n",
    "\n",
    "   2.2 Traditional Machine Learning (SVM non linéaire avec un kernel RBF)\n",
    "\n",
    "3. Utilisation des différentes architectures réseaux de neurones:\n",
    "\n",
    "   3.1 Classificateur 1: Fully Connected 3 layers NN\n",
    "\n",
    "   3.2 Observation de l'effet Early Stopping sur le classificateur 1\n",
    "\n",
    "   3.3 Classificateur 2: CNN avec une architecture LeNet\n",
    "\n",
    "4. Comparaison des performances obtenues pour les différents modèles utilisés\n",
    "\n",
    "\n",
    "\n"
   ]
  },
  {
   "cell_type": "markdown",
   "metadata": {
    "id": "wmIdIY-iXlRX"
   },
   "source": [
    "Importons les librairies dont nous aurons besoin:"
   ]
  },
  {
   "cell_type": "code",
   "execution_count": 13,
   "metadata": {
    "colab": {
     "base_uri": "https://localhost:8080/"
    },
    "id": "wpWDLMm0XlRf",
    "outputId": "aa8327df-1082-41cf-e672-2b314d3cc3f6"
   },
   "outputs": [
    {
     "name": "stdout",
     "output_type": "stream",
     "text": [
      "2.9.2\n"
     ]
    }
   ],
   "source": [
    "# Import matplotlib pour la visualisation\n",
    "import matplotlib.pyplot as plt\n",
    "#Import scikit-learn metrics module for our models' evaluations\n",
    "from sklearn import metrics\n",
    "# numpy pour les calculs\n",
    "import numpy as np\n",
    "\n",
    "import tensorflow as tf\n",
    "from tensorflow import keras\n",
    "from tensorflow.keras import layers\n",
    "from tensorflow.keras import models\n",
    "\n",
    "print(tf.__version__)\n",
    "\n",
    "from tensorflow.keras import datasets, layers, models"
   ]
  },
  {
   "cell_type": "markdown",
   "metadata": {
    "id": "25lVX0LFXlSh"
   },
   "source": [
    "# 1. Fashion MNIST Dataset (Loading & Exploration & Data Preparation)\n",
    "\n",
    "Chargeons et préparons le dataset Fashion MNIST.\n",
    "\n",
    "Ce dataset comprends 70 000 images, sur echelle de gris, de 28 x 28 pixels. Chaque image represente des vêtements individuels.  \n",
    "\n",
    "Ces images sont déjà divisée en training 60 000 exemples et Test 10 000 exemples.\n",
    "\n",
    "Les étiquettes (labels ou y_train) sont un tableau d'entiers, allant de 0 à 9. Ceux-ci correspondent à la classe de vêtements que l'image représente ( x_train):\n",
    "\n",
    "0\tT-shirt/haut\n",
    "1\tPantalon\n",
    "2\tPullover\n",
    "3\tRobe\n",
    "4\tManteau\n",
    "5\tSandale\n",
    "6\tLa chemise\n",
    "7\tBasket\n",
    "8\tSac\n",
    "9\tBottine\n",
    "\n",
    "Chaque image est associée à une seule étiquette. Nous allons stocker les noms de classes pour les utiliser ultérieurement (si besoin)."
   ]
  },
  {
   "cell_type": "code",
   "execution_count": 12,
   "metadata": {
    "id": "88-_6jdZ6Xyb"
   },
   "outputs": [],
   "source": [
    "class_names = ['T-shirt/top', 'Trouser', 'Pullover', 'Dress', 'Coat',\n",
    "               'Sandal', 'Shirt', 'Sneaker', 'Bag', 'Ankle boot']"
   ]
  },
  {
   "cell_type": "code",
   "execution_count": 7,
   "metadata": {
    "colab": {
     "base_uri": "https://localhost:8080/"
    },
    "id": "KvKQnf5dyT0t",
    "outputId": "8fb27cc7-a840-4728-fec3-e1bb24c99a24"
   },
   "outputs": [
    {
     "name": "stdout",
     "output_type": "stream",
     "text": [
      "Downloading data from https://storage.googleapis.com/tensorflow/tf-keras-datasets/train-labels-idx1-ubyte.gz\n",
      "29515/29515 [==============================] - 0s 0us/step\n",
      "Downloading data from https://storage.googleapis.com/tensorflow/tf-keras-datasets/train-images-idx3-ubyte.gz\n",
      "26421880/26421880 [==============================] - 0s 0us/step\n",
      "Downloading data from https://storage.googleapis.com/tensorflow/tf-keras-datasets/t10k-labels-idx1-ubyte.gz\n",
      "5148/5148 [==============================] - 0s 0us/step\n",
      "Downloading data from https://storage.googleapis.com/tensorflow/tf-keras-datasets/t10k-images-idx3-ubyte.gz\n",
      "4422102/4422102 [==============================] - 0s 0us/step\n"
     ]
    }
   ],
   "source": [
    "fashion_mnist = tf.keras.datasets.fashion_mnist\n",
    "(x_train, y_train), (x_test, y_test) = fashion_mnist.load_data()"
   ]
  },
  {
   "cell_type": "markdown",
   "metadata": {
    "id": "gPxeYv9qXlSz"
   },
   "source": [
    "Regardons comment sont représentées les données de plus près"
   ]
  },
  {
   "cell_type": "code",
   "execution_count": 28,
   "metadata": {
    "colab": {
     "base_uri": "https://localhost:8080/"
    },
    "id": "KVRwnWAPXlS1",
    "outputId": "273cffbb-b47f-46ad-d9de-f60ae39d94c1"
   },
   "outputs": [
    {
     "name": "stdout",
     "output_type": "stream",
     "text": [
      "[9 0 0 3 0 2 7 2 5 5 0 9 5 5 7 9 1 0 6 4]\n"
     ]
    }
   ],
   "source": [
    "#affichons les 20 premières valeurs de y_train\n",
    "print(y_train[:20])"
   ]
  },
  {
   "cell_type": "markdown",
   "metadata": {
    "id": "seqhqLVSPk1X"
   },
   "source": [
    "Les labels sont un array de integers, allant de 0 à 9."
   ]
  },
  {
   "cell_type": "code",
   "execution_count": 29,
   "metadata": {
    "colab": {
     "base_uri": "https://localhost:8080/"
    },
    "id": "2_NJrlkmXlTB",
    "outputId": "5d9ae913-af5c-4084-f3e0-32a4a375ff6c"
   },
   "outputs": [
    {
     "name": "stdout",
     "output_type": "stream",
     "text": [
      "[[  0   0   0   0   1   0   0   0   0  22  88 188 172 132 125 141 199 143\n",
      "    9   0   0   0   1   0   0   0   0   0]\n",
      " [  0   0   0   1   0   0  20 131 199 206 196 202 242 255 255 250 222 197\n",
      "  206 188 126  17   0   0   0   0   0   0]\n",
      " [  0   0   0   1   0  35 214 191 183 178 175 168 150 162 159 152 158 179\n",
      "  183 189 195 185  82   0   0   0   0   0]\n",
      " [  0   0   0   0   0 170 190 172 177 176 171 169 162 155 148 154 169 174\n",
      "  175 175 177 183 188  12   0   0   0   0]\n",
      " [  0   0   0   0  25 194 180 178 174 184 187 189 187 184 181 189 200 197\n",
      "  193 190 178 175 194  90   0   0   0   0]\n",
      " [  0   0   0   0  42 218 191 197 208 204 211 209 210 212 211 214 215 213\n",
      "  214 211 211 191 200 158   0   0   0   0]\n",
      " [  0   0   0   0  88 221 215 217 219 211 185 150 118 107  99  88  83  90\n",
      "  135 212 203 207 219 169   0   0   0   0]\n",
      " [  0   0   0   0   0  27 118 162  40   0   0   0  10  19  28  39  47  36\n",
      "    0   0 203 230 220 203   0   0   0   0]\n",
      " [  0   0   0   0 138 136  71  69  54 216 217 203 184 168 163 162 163 178\n",
      "  221 186  38  26   7   0   0   0   0   0]\n",
      " [  0   0   0   0  67 134 154 224 129  66  81 117 129 128 132 137 131 129\n",
      "   86  73 157 151 134 216  18   0   0   0]\n",
      " [  0   0   0   0 203 198 172 183 206 255 255 250 243 240 239 235 238 244\n",
      "  255 238 184 160  86  98   0   0   0   0]\n",
      " [  0   0   0   0 122 188 224 151 105 127  97 100 105 114 117 117 113 103\n",
      "   98 111 142 254 191 255  49   0   0   0]\n",
      " [  0   0   0   0 163 179 200  95 154 198 197 200 200 198 197 198 199 202\n",
      "  200 176  86 206 157 162  10   0   0   0]\n",
      " [  0   0   0   0 197 201 229  71 144 194 181 183 179 182 180 179 180 190\n",
      "  185 197  76 219 185 201  34   0   0   0]\n",
      " [  0   0   0   0 199 193 226  58 154 192 184 187 184 186 184 185 183 192\n",
      "  191 200  56 219 203 207  60   0   0   0]\n",
      " [  0   0   0   0 201 194 224  41 163 190 186 186 184 185 183 185 178 190\n",
      "  194 202  33 211 200 206  73   0   0   0]\n",
      " [  0   0   0   0 201 197 222  17 172 190 186 187 182 186 185 187 180 187\n",
      "  193 202  26 212 202 203  76   0   0   0]\n",
      " [  0   0   0   0 200 197 223   0 177 189 184 185 178 184 183 184 180 183\n",
      "  189 203  35 196 203 203  84   0   0   0]\n",
      " [  0   0   0   0 200 197 223   0 185 187 185 187 180 184 182 183 178 182\n",
      "  183 205  44 159 207 201  85   0   0   0]\n",
      " [  0   0   0   0 187 198 225   0 194 188 184 185 180 183 183 184 181 181\n",
      "  177 206  46 129 211 200  88   0   0   0]\n",
      " [  0   0   0   6 186 200 211   0 199 189 184 184 185 182 183 184 185 182\n",
      "  175 205  50  97 216 197  93   0   0   0]\n",
      " [  0   0   0   5 185 204 184   0 202 188 182 182 183 183 184 182 180 182\n",
      "  174 202  63  59 220 196  94   0   0   0]\n",
      " [  0   0   0   5 184 206 157   0 204 187 187 189 192 190 190 191 190 187\n",
      "  183 202  78  35 222 197  95   0   0   0]\n",
      " [  0   0   0   5 183 208 127   0 197 166 153 149 149 146 148 149 150 151\n",
      "  158 191  90   8 223 195  99   0   0   0]\n",
      " [  0   0   0   6 184 208 114   0 204 173 161 180 176 172 173 173 174 176\n",
      "  162 202 115   0 229 199 105   0   0   0]\n",
      " [  0   0   0   9 178 204 115   0 121 135 114 117 114 114 117 118 119 117\n",
      "  113 147  63   0 225 196 107   0   0   0]\n",
      " [  0   0   0  18 180 206 131   0   0   0   0   0   0   0   0   0   0   0\n",
      "    0   0   0   0 224 197 123   0   0   0]\n",
      " [  0   0   0   0 141 151  76   0   1   1   0   0   0   0   0   0   0   0\n",
      "    0   0   0   0 133 167  73   0   0   0]]\n"
     ]
    }
   ],
   "source": [
    "#affichons une valeur au choix de x_train\n",
    "n= 5\n",
    "print (x_train[n])"
   ]
  },
  {
   "cell_type": "markdown",
   "metadata": {
    "id": "6acjDZ2gXlTK"
   },
   "source": [
    "Les valeurs des pixels sont représentés par un nombre de 0 à 255 (le degès de gris).\n",
    "\n",
    "Affichons une image au choix"
   ]
  },
  {
   "cell_type": "code",
   "execution_count": 30,
   "metadata": {
    "colab": {
     "base_uri": "https://localhost:8080/",
     "height": 302
    },
    "id": "hcr1N5rXXlTN",
    "outputId": "d24c2ec8-b68b-453a-e9a2-90f0d9c258c1"
   },
   "outputs": [
    {
     "data": {
      "text/plain": [
       "<Figure size 432x288 with 0 Axes>"
      ]
     },
     "metadata": {},
     "output_type": "display_data"
    },
    {
     "data": {
      "image/png": "[encoded data removed]",
      "text/plain": [
       "<Figure size 288x288 with 1 Axes>"
      ]
     },
     "metadata": {
      "needs_background": "light"
     },
     "output_type": "display_data"
    }
   ],
   "source": [
    "n=870\n",
    "import matplotlib.pyplot as plt \n",
    "plt.gray() \n",
    "plt.matshow(x_train[n]) \n",
    "plt.title('Image Label: %i' % y_train[n])\n",
    "plt.show()"
   ]
  },
  {
   "cell_type": "markdown",
   "metadata": {
    "id": "OOP-y9dlXlTU"
   },
   "source": [
    "Les données sont déjà réparties en train et test sets.\n",
    "\n",
    "Regardons les dimensions de chaque set"
   ]
  },
  {
   "cell_type": "code",
   "execution_count": 31,
   "metadata": {
    "colab": {
     "base_uri": "https://localhost:8080/"
    },
    "id": "1E8GDXsiXlTV",
    "outputId": "5786e64f-d6c1-4e57-8c3e-1db0c03e0023"
   },
   "outputs": [
    {
     "name": "stdout",
     "output_type": "stream",
     "text": [
      "(60000, 28, 28)\n",
      "(60000,)\n",
      "(10000, 28, 28)\n",
      "(10000,)\n"
     ]
    }
   ],
   "source": [
    "print(x_train.shape)\n",
    "print(y_train.shape)\n",
    "print(x_test.shape)\n",
    "print(y_test.shape)"
   ]
  },
  {
   "cell_type": "markdown",
   "metadata": {
    "id": "lzq70ISiXlTb"
   },
   "source": [
    "\n",
    "# Feature normalization\n",
    "L'intensité des pixels étant entre 0 et 255, nous procédons à la Feature Normalization. Cette étape nous permet d'aboutir à des valeurs entre 0 et 1."
   ]
  },
  {
   "cell_type": "code",
   "execution_count": 8,
   "metadata": {
    "id": "-XHue5kIXlTd"
   },
   "outputs": [],
   "source": [
    "x_train, x_test = x_train / 255.0, x_test / 255.0"
   ]
  },
  {
   "cell_type": "markdown",
   "metadata": {
    "id": "l5sxlKg_XlTl"
   },
   "source": [
    "Pour vérifier que les données sont dans un format correct, affichons les 64 premières images du training, et le nom de la classe correspondante à chaque image."
   ]
  },
  {
   "cell_type": "code",
   "execution_count": 9,
   "metadata": {
    "colab": {
     "base_uri": "https://localhost:8080/",
     "height": 466
    },
    "id": "L3CwjUNxXlTn",
    "outputId": "0d4791d2-8c10-4557-a685-254c788af5de"
   },
   "outputs": [
    {
     "data": {
      "image/png": "[encoded data removed]",
      "text/plain": [
       "<Figure size 432x432 with 64 Axes>"
      ]
     },
     "metadata": {},
     "output_type": "display_data"
    }
   ],
   "source": [
    "fig = plt.figure(figsize=(6, 6))  # figure size in inches\n",
    "fig.subplots_adjust(left=0, right=1, bottom=0, top=1, hspace=0.05, wspace=0.05)\n",
    "\n",
    "for i in range(64):\n",
    "    ax = fig.add_subplot(8, 8, i + 1, xticks=[], yticks=[])\n",
    "    ax.imshow(x_train[i], cmap=plt.cm.binary, interpolation='nearest')\n",
    "    # label the image with the target value\n",
    "    ax.text(0, 7, str(y_train[i]), color ='green')"
   ]
  },
  {
   "cell_type": "markdown",
   "metadata": {
    "id": "lj9pt7lMXlTt"
   },
   "source": [
    "Vérifions que les données de Train et de Test sont bien équilibrées (balanced)"
   ]
  },
  {
   "cell_type": "code",
   "execution_count": 34,
   "metadata": {
    "colab": {
     "base_uri": "https://localhost:8080/",
     "height": 282
    },
    "id": "4WoYSXIRXlTv",
    "outputId": "4621b527-c689-4d53-c8eb-517de3c566d5"
   },
   "outputs": [
    {
     "data": {
      "text/plain": [
       "<BarContainer object of 10 artists>"
      ]
     },
     "execution_count": 34,
     "metadata": {},
     "output_type": "execute_result"
    },
    {
     "data": {
      "image/png": "[encoded data removed]",
      "text/plain": [
       "<Figure size 432x288 with 1 Axes>"
      ]
     },
     "metadata": {
      "needs_background": "light"
     },
     "output_type": "display_data"
    }
   ],
   "source": [
    "import collections\n",
    "w=collections.Counter(y_train)\n",
    "plt.bar(w.keys(), w.values())"
   ]
  },
  {
   "cell_type": "code",
   "execution_count": 35,
   "metadata": {
    "colab": {
     "base_uri": "https://localhost:8080/",
     "height": 282
    },
    "id": "58qBVqbwXlT2",
    "outputId": "640abedb-0c94-4c2a-e3aa-6f58113b4420"
   },
   "outputs": [
    {
     "data": {
      "text/plain": [
       "<BarContainer object of 10 artists>"
      ]
     },
     "execution_count": 35,
     "metadata": {},
     "output_type": "execute_result"
    },
    {
     "data": {
      "image/png": "[encoded data removed]",
      "text/plain": [
       "<Figure size 432x288 with 1 Axes>"
      ]
     },
     "metadata": {
      "needs_background": "light"
     },
     "output_type": "display_data"
    }
   ],
   "source": [
    "import collections\n",
    "w=collections.Counter(y_test)\n",
    "plt.bar(w.keys(), w.values())"
   ]
  },
  {
   "cell_type": "markdown",
   "metadata": {
    "id": "OSG1bCvz0J3X"
   },
   "source": [
    "# 2. Algorithmes Machine Learning traditionnel\n",
    "\n",
    "Nous allons utiliser quelques algorithmes du Machine Learning traditionnel évoqués en cours, afin de prédire la variable cible ( labels_images ou y_train.\n",
    "\n",
    "Ainsi, nous allons calculer les performances du modèle en utilisant les métriques appropriées à chaque problème."
   ]
  },
  {
   "cell_type": "markdown",
   "metadata": {
    "id": "FfatfkMWXlUA"
   },
   "source": [
    "# 2.1 Traditional Machine Learning (Régresssion Logistique)\n",
    "\n"
   ]
  },
  {
   "cell_type": "markdown",
   "metadata": {
    "id": "AuSVkEQSLPwG"
   },
   "source": [
    "Commençons par le modèle de régression logistique pour la gestion des multi-class."
   ]
  },
  {
   "cell_type": "markdown",
   "metadata": {
    "id": "sIpV2dIoXlUB"
   },
   "source": [
    "Les dimensions de x_train sont (60000, 28, 28).\n",
    "\n",
    "Nous allons d'abord l'applatir"
   ]
  },
  {
   "cell_type": "code",
   "execution_count": 10,
   "metadata": {
    "id": "By5ZfOvLXlUC"
   },
   "outputs": [],
   "source": [
    "d1 , d2, d3 =  x_train.shape\n",
    "x_train_flat = x_train.reshape(d1, d2*d3)\n",
    "\n",
    "d1 , d2, d3 =  x_test.shape\n",
    "x_test_flat = x_test.reshape(d1, d2*d3)"
   ]
  },
  {
   "cell_type": "markdown",
   "metadata": {
    "id": "pPTfQGLvXlUI"
   },
   "source": [
    "On spécifie la méthode 'One Vs Rest' ('ovr') pour la gestion du multi-class. Construisons un modèle de Logistic Regression avec le solver 'saga'.\n",
    "\n",
    "Entrainons notre modèle (.fit)\n",
    "\n",
    "Puis calculons les prédictions afin d'évaluer les résultats"
   ]
  },
  {
   "cell_type": "code",
   "execution_count": 37,
   "metadata": {
    "colab": {
     "base_uri": "https://localhost:8080/"
    },
    "id": "7VEC0mHXXlUJ",
    "outputId": "7392662b-ff15-420d-8426-2905cb98eded"
   },
   "outputs": [
    {
     "name": "stderr",
     "output_type": "stream",
     "text": [
      "/usr/local/lib/python3.8/dist-packages/sklearn/linear_model/_sag.py:352: ConvergenceWarning: The max_iter was reached which means the coef_ did not converge\n",
      "  warnings.warn(\n",
      "/usr/local/lib/python3.8/dist-packages/sklearn/linear_model/_sag.py:352: ConvergenceWarning: The max_iter was reached which means the coef_ did not converge\n",
      "  warnings.warn(\n",
      "/usr/local/lib/python3.8/dist-packages/sklearn/linear_model/_sag.py:352: ConvergenceWarning: The max_iter was reached which means the coef_ did not converge\n",
      "  warnings.warn(\n",
      "/usr/local/lib/python3.8/dist-packages/sklearn/linear_model/_sag.py:352: ConvergenceWarning: The max_iter was reached which means the coef_ did not converge\n",
      "  warnings.warn(\n",
      "/usr/local/lib/python3.8/dist-packages/sklearn/linear_model/_sag.py:352: ConvergenceWarning: The max_iter was reached which means the coef_ did not converge\n",
      "  warnings.warn(\n",
      "/usr/local/lib/python3.8/dist-packages/sklearn/linear_model/_sag.py:352: ConvergenceWarning: The max_iter was reached which means the coef_ did not converge\n",
      "  warnings.warn(\n",
      "/usr/local/lib/python3.8/dist-packages/sklearn/linear_model/_sag.py:352: ConvergenceWarning: The max_iter was reached which means the coef_ did not converge\n",
      "  warnings.warn(\n",
      "/usr/local/lib/python3.8/dist-packages/sklearn/linear_model/_sag.py:352: ConvergenceWarning: The max_iter was reached which means the coef_ did not converge\n",
      "  warnings.warn(\n",
      "/usr/local/lib/python3.8/dist-packages/sklearn/linear_model/_sag.py:352: ConvergenceWarning: The max_iter was reached which means the coef_ did not converge\n",
      "  warnings.warn(\n",
      "/usr/local/lib/python3.8/dist-packages/sklearn/linear_model/_sag.py:352: ConvergenceWarning: The max_iter was reached which means the coef_ did not converge\n",
      "  warnings.warn(\n"
     ]
    }
   ],
   "source": [
    "#Import Logistic Regression model\n",
    "from sklearn.linear_model import LogisticRegression\n",
    "\n",
    "#Create a Logistic Regression Classifier\n",
    "classifierRL = LogisticRegression(multi_class ='ovr', solver='saga')\n",
    "\n",
    "#Train the model using the training sets\n",
    "classifierRL.fit(x_train_flat, y_train)\n",
    "\n",
    "#Predict the response for train dataset\n",
    "y_pred_train_RL = classifierRL.predict(x_train_flat)\n",
    "\n",
    "#Predict the response for test dataset\n",
    "y_pred_test_RL = classifierRL.predict(x_test_flat)"
   ]
  },
  {
   "cell_type": "markdown",
   "metadata": {
    "id": "ZLn2G4yQXlUQ"
   },
   "source": [
    "Evaluons notre modèle.\n",
    "\n",
    "Nous allons nous limiter ici sur la metric Accuracy car les classes sont équilibrées."
   ]
  },
  {
   "cell_type": "code",
   "execution_count": 38,
   "metadata": {
    "colab": {
     "base_uri": "https://localhost:8080/"
    },
    "id": "nM9NqZwgXlUS",
    "outputId": "0591b1ba-9c9e-4375-e796-e0c3234024da"
   },
   "outputs": [
    {
     "name": "stdout",
     "output_type": "stream",
     "text": [
      "Train Accuracy: 0.8717\n",
      "Test Accuracy: 0.8426\n"
     ]
    }
   ],
   "source": [
    "# Model Accuracy: how often is the classifier correct?\n",
    "print(\"Train Accuracy:\",metrics.accuracy_score(y_train, y_pred_train_RL))\n",
    "print(\"Test Accuracy:\",metrics.accuracy_score(y_test, y_pred_test_RL))"
   ]
  },
  {
   "cell_type": "code",
   "execution_count": 39,
   "metadata": {
    "colab": {
     "base_uri": "https://localhost:8080/",
     "height": 466
    },
    "id": "X_JsYdOBXlUY",
    "outputId": "aeeb07bf-7a27-4e16-b092-f21afa3e66c7"
   },
   "outputs": [
    {
     "data": {
      "image/png": "[encoded data removed]",
      "text/plain": [
       "<Figure size 432x432 with 64 Axes>"
      ]
     },
     "metadata": {},
     "output_type": "display_data"
    }
   ],
   "source": [
    "# Plot the prediction\n",
    "fig = plt.figure(figsize=(6, 6))  # figure size in inches\n",
    "fig.subplots_adjust(left=0, right=1, bottom=0, top=1, hspace=0.05, wspace=0.05)\n",
    "# plot the digits: each image is 8x8 pixels\n",
    "for i in range(64):\n",
    "    ax = fig.add_subplot(8, 8, i + 1, xticks=[], yticks=[])\n",
    "    ax.imshow(x_test[i], cmap=plt.cm.binary,\n",
    "              interpolation='nearest')\n",
    "    # label the image with the target value\n",
    "    if y_pred_test_RL[i] == y_test[i]:\n",
    "        ax.text(0, 7, str(y_pred_test_RL[i]), color='green')\n",
    "    else:\n",
    "        ax.text(0, 7, str(y_pred_test_RL[i]), color='red')\n",
    "        ax.text(0, 7, '             '+str(y_test[i]), color='green')"
   ]
  },
  {
   "cell_type": "markdown",
   "metadata": {
    "id": "L9Fmh5FAXlUe"
   },
   "source": [
    "Examinons uniquement les erreurs"
   ]
  },
  {
   "cell_type": "code",
   "execution_count": 40,
   "metadata": {
    "colab": {
     "base_uri": "https://localhost:8080/"
    },
    "id": "8YA0rvIFXlUf",
    "outputId": "bcef3089-d6f3-460f-8009-c8e3b18aa83b"
   },
   "outputs": [
    {
     "name": "stdout",
     "output_type": "stream",
     "text": [
      "Le nombre d'erreur est:  1574\n"
     ]
    }
   ],
   "source": [
    "#Affichons d'abord le nombre d'erreur\n",
    "nbrError = 0\n",
    "for i in range(10000):\n",
    "    if y_pred_test_RL[i] != y_test[i]:\n",
    "        nbrError = nbrError +1\n",
    "print(\"Le nombre d'erreur est: \",nbrError)     "
   ]
  },
  {
   "cell_type": "markdown",
   "metadata": {
    "id": "aMNrcDCMXlUl"
   },
   "source": [
    "La valeur d'accuracy parait faiblement bonne, ainsi est ce qu'on peut considérer que le nombre des erreurs est tolérable ?\n",
    "\n",
    "Essayons, donc, un autre modèle du machine learning."
   ]
  },
  {
   "cell_type": "markdown",
   "metadata": {
    "id": "U_3Gt0277CSV"
   },
   "source": [
    "# 2.2: Traditional Machine Learning (SVM avec un kernel non linéaire)\n",
    "\n",
    "La stratégie multi class implémentée pour SVC est 'one-vs-rest'.\n",
    "\n",
    "Entrainons un classificateur SVM avec un kernel 'rbf' (radial basis function, abordé dans les labs du cour)."
   ]
  },
  {
   "cell_type": "markdown",
   "metadata": {
    "id": "NlGzUOzxLhph"
   },
   "source": [
    "Nous allons d'abord convertir la dimension de notre DataSet de 2D à une seule dimension, afin de pouvoir mieux interpréter les résultats et avoir plus de simplicité."
   ]
  },
  {
   "cell_type": "code",
   "execution_count": 14,
   "metadata": {
    "id": "m_pH137srt7O"
   },
   "outputs": [],
   "source": [
    "# Conversion the 2d array of DataSet into a 1d array\n",
    "def convert(nparray):\n",
    "    l=[]\n",
    "    dims=nparray.shape\n",
    "    for i in range(dims[0]):\n",
    "        l.append(nparray[i].flatten())\n",
    "    l=np.array(l)\n",
    "    return l\n",
    "x_train_mod = convert(x_train)\n",
    "x_test_mod  = convert(x_test)"
   ]
  },
  {
   "cell_type": "code",
   "execution_count": 42,
   "metadata": {
    "colab": {
     "base_uri": "https://localhost:8080/"
    },
    "id": "P-YzUA7psZ0w",
    "outputId": "a8274380-40b2-4d88-c34f-731a13910b00"
   },
   "outputs": [
    {
     "name": "stdout",
     "output_type": "stream",
     "text": [
      "Train label 0 count :6000\n",
      "Test label 0 count :1000\n",
      "Train label 1 count :6000\n",
      "Test label 1 count :1000\n",
      "Train label 2 count :6000\n",
      "Test label 2 count :1000\n",
      "Train label 3 count :6000\n",
      "Test label 3 count :1000\n",
      "Train label 4 count :6000\n",
      "Test label 4 count :1000\n",
      "Train label 5 count :6000\n",
      "Test label 5 count :1000\n",
      "Train label 6 count :6000\n",
      "Test label 6 count :1000\n",
      "Train label 7 count :6000\n",
      "Test label 7 count :1000\n",
      "Train label 8 count :6000\n",
      "Test label 8 count :1000\n",
      "Train label 9 count :6000\n",
      "Test label 9 count :1000\n"
     ]
    }
   ],
   "source": [
    "# Checking the distribution of labels\n",
    "for i in range(10):\n",
    "    print ('Train label ' + str(i) + ' count :' + str(len([j for j in y_train if j==i])))\n",
    "    print ('Test label ' + str(i) + ' count :' + str(len([j for j in y_test if j==i])))\n"
   ]
  },
  {
   "cell_type": "markdown",
   "metadata": {
    "id": "wAB3h0GGwHKn"
   },
   "source": [
    "Construisons notre modèle."
   ]
  },
  {
   "cell_type": "code",
   "execution_count": 15,
   "metadata": {
    "colab": {
     "base_uri": "https://localhost:8080/"
    },
    "id": "9V0zbWdMFvPn",
    "outputId": "8486f3bf-b67c-4a22-c732-bf78053abc90"
   },
   "outputs": [
    {
     "data": {
      "text/plain": [
       "SVC(C=100, gamma='auto')"
      ]
     },
     "execution_count": 15,
     "metadata": {},
     "output_type": "execute_result"
    }
   ],
   "source": [
    "#Import  model\n",
    "from sklearn.svm import SVC\n",
    "\n",
    "#Create an SVM Classifier\n",
    "classifierSVMrbf = SVC(kernel='rbf', C=100, gamma='auto')\n",
    "classifierSVMrbf.fit(x_train_mod, y_train)"
   ]
  },
  {
   "cell_type": "code",
   "execution_count": 16,
   "metadata": {
    "id": "YjRFn117GgPv"
   },
   "outputs": [],
   "source": [
    "#Predict the response for test dataset\n",
    "y_pred_test_rbf = classifierSVMrbf.predict(x_test_mod)\n",
    "y_pred_train_rbf = classifierSVMrbf.predict(x_train_mod)"
   ]
  },
  {
   "cell_type": "markdown",
   "metadata": {
    "id": "EOFJZLHxO1gu"
   },
   "source": [
    "Evaluons notre modèle."
   ]
  },
  {
   "cell_type": "code",
   "execution_count": 17,
   "metadata": {
    "colab": {
     "base_uri": "https://localhost:8080/"
    },
    "id": "h-zQTWpaOQhH",
    "outputId": "26cab483-5c47-4f3e-8253-32e9868de780"
   },
   "outputs": [
    {
     "name": "stdout",
     "output_type": "stream",
     "text": [
      "Train Accuracy: 0.9381666666666667\n",
      "Test Accuracy: 0.8804\n"
     ]
    }
   ],
   "source": [
    "# Model Accuracy: how often is the classifier correct?\n",
    "print(\"Train Accuracy:\",metrics.accuracy_score(y_train, y_pred_train_rbf))\n",
    "print(\"Test Accuracy:\",metrics.accuracy_score(y_test, y_pred_test_rbf))"
   ]
  },
  {
   "cell_type": "markdown",
   "metadata": {
    "id": "bHn-R-ZPm5Rw"
   },
   "source": [
    "La valeur d'accuracy est légèrement meilleur en utilisant un SVM non linéaire (0.8804) qu'en utilisant la régression logistique avec une valeur de 0.8426 . \n",
    "\n",
    "En revanche, on constate qu'on est en situation d'overfitting en utilisant le classificateur SVM, dont l'accurcay du Test Set est moins inférieure à celle du Training Set. Ce qui n'a pas été le cas en utilisant la régression logistique.\n",
    "\n",
    "De ce fait, est ce qu'on peut avoir des meilleures performances en utilisant d'autres méthodes? A savoir le DNN qui a été prouvé plus performant auprès des DataSet volumineux. Ce qui est notre cas.\n"
   ]
  },
  {
   "cell_type": "markdown",
   "metadata": {
    "id": "vRcltGQ12UTG"
   },
   "source": [
    "# 3. Architechtures réseaux de neuronnes\n",
    "\n",
    "Nous allons, maintenant, utiliser les différentes architectures des réseaux de neurones afin de prédire la variable cible. \n",
    "\n",
    "Ensuite, nous calculerons les performances du modèle en utilisant les métriques appropriées au problème."
   ]
  },
  {
   "cell_type": "markdown",
   "metadata": {
    "id": "ZYLvYHQJ3LAc"
   },
   "source": [
    "#3.1 Classificateur 1: Fully Connected 3 layers NN"
   ]
  },
  {
   "cell_type": "markdown",
   "metadata": {
    "id": "kyS_QovYXAHh"
   },
   "source": [
    "Construisons notre modèle."
   ]
  },
  {
   "cell_type": "code",
   "execution_count": 18,
   "metadata": {
    "colab": {
     "base_uri": "https://localhost:8080/"
    },
    "id": "RPBFzQF0sM8n",
    "outputId": "8f08e010-7e8a-4e7f-c2d7-f942b8076b8a"
   },
   "outputs": [
    {
     "name": "stdout",
     "output_type": "stream",
     "text": [
      "Model: \"sequential\"\n",
      "_________________________________________________________________\n",
      " Layer (type)                Output Shape              Param #   \n",
      "=================================================================\n",
      " flatten (Flatten)           (None, 784)               0         \n",
      "                                                                 \n",
      " Hidden_Layer_1 (Dense)      (None, 64)                50240     \n",
      "                                                                 \n",
      " Hidden_Layer_2 (Dense)      (None, 64)                4160      \n",
      "                                                                 \n",
      " Output_Layer (Dense)        (None, 10)                650       \n",
      "                                                                 \n",
      "=================================================================\n",
      "Total params: 55,050\n",
      "Trainable params: 55,050\n",
      "Non-trainable params: 0\n",
      "_________________________________________________________________\n"
     ]
    }
   ],
   "source": [
    "# on choisi un NN séquentiel\n",
    "classifierNN3L = models.Sequential()\n",
    "\n",
    "# on rajoute les layers qu on veut\n",
    "classifierNN3L.add(layers.InputLayer(input_shape=(28,28,)))\n",
    "classifierNN3L.add(layers.Flatten())\n",
    "classifierNN3L.add(layers.Dense(64, activation='relu', name = \"Hidden_Layer_1\"))\n",
    "classifierNN3L.add(layers.Dense(64, activation='relu', name = \"Hidden_Layer_2\"))\n",
    "classifierNN3L.add(layers.Dense(10, activation='softmax', name = \"Output_Layer\"))\n",
    "\n",
    "#affichons un résumé de notre modèle\n",
    "classifierNN3L.summary() "
   ]
  },
  {
   "cell_type": "markdown",
   "metadata": {
    "id": "s-OTzSVc4uGm"
   },
   "source": [
    "Compilons notre modèle:\n",
    "\n",
    "Nous choisissons comme otpimizer ADAM, tout en sachant que cet optimizer a prouvé, selon les architechtures testées et les plus utilisées, une nette amélioration de la métrique Accuracy.\n",
    "  \n",
    "Ainsi, comme loss fonction : sparse cetegorical cross entropy, et comme metric à calculer après chaque epoch: accuracy."
   ]
  },
  {
   "cell_type": "code",
   "execution_count": 19,
   "metadata": {
    "colab": {
     "base_uri": "https://localhost:8080/"
    },
    "id": "_jDJN1t2_e5q",
    "outputId": "60dd765a-d3b7-424e-f563-d28a2ce5c313"
   },
   "outputs": [
    {
     "name": "stdout",
     "output_type": "stream",
     "text": [
      "Epoch 1/100\n"
     ]
    },
    {
     "name": "stderr",
     "output_type": "stream",
     "text": [
      "/usr/local/lib/python3.8/dist-packages/tensorflow/python/util/dispatch.py:1082: UserWarning: \"`sparse_categorical_crossentropy` received `from_logits=True`, but the `output` argument was produced by a sigmoid or softmax activation and thus does not represent logits. Was this intended?\"\n",
      "  return dispatch_target(*args, **kwargs)\n"
     ]
    },
    {
     "name": "stdout",
     "output_type": "stream",
     "text": [
      "1875/1875 [==============================] - 5s 2ms/step - loss: 0.5079 - accuracy: 0.8207\n",
      "Epoch 2/100\n",
      "1875/1875 [==============================] - 5s 3ms/step - loss: 0.3737 - accuracy: 0.8642\n",
      "Epoch 3/100\n",
      "1875/1875 [==============================] - 5s 2ms/step - loss: 0.3415 - accuracy: 0.8745\n",
      "Epoch 4/100\n",
      "1875/1875 [==============================] - 5s 2ms/step - loss: 0.3206 - accuracy: 0.8820\n",
      "Epoch 5/100\n",
      "1875/1875 [==============================] - 5s 2ms/step - loss: 0.3022 - accuracy: 0.8880\n",
      "Epoch 6/100\n",
      "1875/1875 [==============================] - 5s 2ms/step - loss: 0.2874 - accuracy: 0.8932\n",
      "Epoch 7/100\n",
      "1875/1875 [==============================] - 5s 3ms/step - loss: 0.2769 - accuracy: 0.8968\n",
      "Epoch 8/100\n",
      "1875/1875 [==============================] - 5s 3ms/step - loss: 0.2683 - accuracy: 0.8989\n",
      "Epoch 9/100\n",
      "1875/1875 [==============================] - 5s 3ms/step - loss: 0.2590 - accuracy: 0.9027\n",
      "Epoch 10/100\n",
      "1875/1875 [==============================] - 4s 2ms/step - loss: 0.2500 - accuracy: 0.9067\n",
      "Epoch 11/100\n",
      "1875/1875 [==============================] - 5s 3ms/step - loss: 0.2442 - accuracy: 0.9064\n",
      "Epoch 12/100\n",
      "1875/1875 [==============================] - 5s 3ms/step - loss: 0.2389 - accuracy: 0.9108\n",
      "Epoch 13/100\n",
      "1875/1875 [==============================] - 5s 3ms/step - loss: 0.2309 - accuracy: 0.9131\n",
      "Epoch 14/100\n",
      "1875/1875 [==============================] - 5s 3ms/step - loss: 0.2241 - accuracy: 0.9153\n",
      "Epoch 15/100\n",
      "1875/1875 [==============================] - 5s 3ms/step - loss: 0.2178 - accuracy: 0.9170\n",
      "Epoch 16/100\n",
      "1875/1875 [==============================] - 5s 2ms/step - loss: 0.2148 - accuracy: 0.9179\n",
      "Epoch 17/100\n",
      "1875/1875 [==============================] - 5s 3ms/step - loss: 0.2094 - accuracy: 0.9200\n",
      "Epoch 18/100\n",
      "1875/1875 [==============================] - 5s 3ms/step - loss: 0.2056 - accuracy: 0.9221\n",
      "Epoch 19/100\n",
      "1875/1875 [==============================] - 5s 2ms/step - loss: 0.1997 - accuracy: 0.9250\n",
      "Epoch 20/100\n",
      "1875/1875 [==============================] - 5s 2ms/step - loss: 0.1958 - accuracy: 0.9252\n",
      "Epoch 21/100\n",
      "1875/1875 [==============================] - 5s 2ms/step - loss: 0.1901 - accuracy: 0.9290\n",
      "Epoch 22/100\n",
      "1875/1875 [==============================] - 5s 2ms/step - loss: 0.1881 - accuracy: 0.9286\n",
      "Epoch 23/100\n",
      "1875/1875 [==============================] - 5s 2ms/step - loss: 0.1850 - accuracy: 0.9301\n",
      "Epoch 24/100\n",
      "1875/1875 [==============================] - 5s 2ms/step - loss: 0.1793 - accuracy: 0.9316\n",
      "Epoch 25/100\n",
      "1875/1875 [==============================] - 5s 2ms/step - loss: 0.1776 - accuracy: 0.9336\n",
      "Epoch 26/100\n",
      "1875/1875 [==============================] - 5s 2ms/step - loss: 0.1758 - accuracy: 0.9328\n",
      "Epoch 27/100\n",
      "1875/1875 [==============================] - 5s 2ms/step - loss: 0.1716 - accuracy: 0.9341\n",
      "Epoch 28/100\n",
      "1875/1875 [==============================] - 5s 2ms/step - loss: 0.1683 - accuracy: 0.9351\n",
      "Epoch 29/100\n",
      "1875/1875 [==============================] - 4s 2ms/step - loss: 0.1674 - accuracy: 0.9365\n",
      "Epoch 30/100\n",
      "1875/1875 [==============================] - 4s 2ms/step - loss: 0.1627 - accuracy: 0.9375\n",
      "Epoch 31/100\n",
      "1875/1875 [==============================] - 5s 2ms/step - loss: 0.1615 - accuracy: 0.9391\n",
      "Epoch 32/100\n",
      "1875/1875 [==============================] - 5s 2ms/step - loss: 0.1566 - accuracy: 0.9403\n",
      "Epoch 33/100\n",
      "1875/1875 [==============================] - 5s 2ms/step - loss: 0.1535 - accuracy: 0.9417\n",
      "Epoch 34/100\n",
      "1875/1875 [==============================] - 5s 2ms/step - loss: 0.1532 - accuracy: 0.9417\n",
      "Epoch 35/100\n",
      "1875/1875 [==============================] - 5s 2ms/step - loss: 0.1516 - accuracy: 0.9422\n",
      "Epoch 36/100\n",
      "1875/1875 [==============================] - 5s 2ms/step - loss: 0.1503 - accuracy: 0.9428\n",
      "Epoch 37/100\n",
      "1875/1875 [==============================] - 4s 2ms/step - loss: 0.1473 - accuracy: 0.9434\n",
      "Epoch 38/100\n",
      "1875/1875 [==============================] - 5s 2ms/step - loss: 0.1409 - accuracy: 0.9459\n",
      "Epoch 39/100\n",
      "1875/1875 [==============================] - 5s 2ms/step - loss: 0.1424 - accuracy: 0.9457\n",
      "Epoch 40/100\n",
      "1875/1875 [==============================] - 5s 2ms/step - loss: 0.1382 - accuracy: 0.9471\n",
      "Epoch 41/100\n",
      "1875/1875 [==============================] - 4s 2ms/step - loss: 0.1401 - accuracy: 0.9461\n",
      "Epoch 42/100\n",
      "1875/1875 [==============================] - 5s 2ms/step - loss: 0.1360 - accuracy: 0.9474\n",
      "Epoch 43/100\n",
      "1875/1875 [==============================] - 5s 2ms/step - loss: 0.1351 - accuracy: 0.9483\n",
      "Epoch 44/100\n",
      "1875/1875 [==============================] - 5s 2ms/step - loss: 0.1337 - accuracy: 0.9491\n",
      "Epoch 45/100\n",
      "1875/1875 [==============================] - 5s 2ms/step - loss: 0.1299 - accuracy: 0.9488\n",
      "Epoch 46/100\n",
      "1875/1875 [==============================] - 4s 2ms/step - loss: 0.1290 - accuracy: 0.9504\n",
      "Epoch 47/100\n",
      "1875/1875 [==============================] - 5s 2ms/step - loss: 0.1246 - accuracy: 0.9518\n",
      "Epoch 48/100\n",
      "1875/1875 [==============================] - 4s 2ms/step - loss: 0.1243 - accuracy: 0.9518\n",
      "Epoch 49/100\n",
      "1875/1875 [==============================] - 5s 2ms/step - loss: 0.1232 - accuracy: 0.9527\n",
      "Epoch 50/100\n",
      "1875/1875 [==============================] - 5s 2ms/step - loss: 0.1223 - accuracy: 0.9535\n",
      "Epoch 51/100\n",
      "1875/1875 [==============================] - 5s 2ms/step - loss: 0.1197 - accuracy: 0.9538\n",
      "Epoch 52/100\n",
      "1875/1875 [==============================] - 4s 2ms/step - loss: 0.1229 - accuracy: 0.9532\n",
      "Epoch 53/100\n",
      "1875/1875 [==============================] - 4s 2ms/step - loss: 0.1182 - accuracy: 0.9552\n",
      "Epoch 54/100\n",
      "1875/1875 [==============================] - 4s 2ms/step - loss: 0.1146 - accuracy: 0.9564\n",
      "Epoch 55/100\n",
      "1875/1875 [==============================] - 5s 2ms/step - loss: 0.1182 - accuracy: 0.9546\n",
      "Epoch 56/100\n",
      "1875/1875 [==============================] - 5s 2ms/step - loss: 0.1168 - accuracy: 0.9557\n",
      "Epoch 57/100\n",
      "1875/1875 [==============================] - 5s 2ms/step - loss: 0.1153 - accuracy: 0.9563\n",
      "Epoch 58/100\n",
      "1875/1875 [==============================] - 4s 2ms/step - loss: 0.1105 - accuracy: 0.9581\n",
      "Epoch 59/100\n",
      "1875/1875 [==============================] - 5s 2ms/step - loss: 0.1097 - accuracy: 0.9587\n",
      "Epoch 60/100\n",
      "1875/1875 [==============================] - 5s 2ms/step - loss: 0.1065 - accuracy: 0.9601\n",
      "Epoch 61/100\n",
      "1875/1875 [==============================] - 4s 2ms/step - loss: 0.1133 - accuracy: 0.9573\n",
      "Epoch 62/100\n",
      "1875/1875 [==============================] - 5s 2ms/step - loss: 0.1092 - accuracy: 0.9583\n",
      "Epoch 63/100\n",
      "1875/1875 [==============================] - 5s 2ms/step - loss: 0.1039 - accuracy: 0.9606\n",
      "Epoch 64/100\n",
      "1875/1875 [==============================] - 5s 2ms/step - loss: 0.1042 - accuracy: 0.9600\n",
      "Epoch 65/100\n",
      "1875/1875 [==============================] - 5s 2ms/step - loss: 0.1034 - accuracy: 0.9613\n",
      "Epoch 66/100\n",
      "1875/1875 [==============================] - 5s 2ms/step - loss: 0.1007 - accuracy: 0.9621\n",
      "Epoch 67/100\n",
      "1875/1875 [==============================] - 5s 2ms/step - loss: 0.1021 - accuracy: 0.9615\n",
      "Epoch 68/100\n",
      "1875/1875 [==============================] - 5s 2ms/step - loss: 0.1002 - accuracy: 0.9625\n",
      "Epoch 69/100\n",
      "1875/1875 [==============================] - 5s 2ms/step - loss: 0.0997 - accuracy: 0.9631\n",
      "Epoch 70/100\n",
      "1875/1875 [==============================] - 5s 2ms/step - loss: 0.0982 - accuracy: 0.9629\n",
      "Epoch 71/100\n",
      "1875/1875 [==============================] - 4s 2ms/step - loss: 0.0954 - accuracy: 0.9647\n",
      "Epoch 72/100\n",
      "1875/1875 [==============================] - 5s 2ms/step - loss: 0.0977 - accuracy: 0.9624\n",
      "Epoch 73/100\n",
      "1875/1875 [==============================] - 4s 2ms/step - loss: 0.0937 - accuracy: 0.9640\n",
      "Epoch 74/100\n",
      "1875/1875 [==============================] - 5s 2ms/step - loss: 0.0955 - accuracy: 0.9640\n",
      "Epoch 75/100\n",
      "1875/1875 [==============================] - 5s 2ms/step - loss: 0.0929 - accuracy: 0.9638\n",
      "Epoch 76/100\n",
      "1875/1875 [==============================] - 5s 2ms/step - loss: 0.0957 - accuracy: 0.9642\n",
      "Epoch 77/100\n",
      "1875/1875 [==============================] - 5s 2ms/step - loss: 0.0938 - accuracy: 0.9646\n",
      "Epoch 78/100\n",
      "1875/1875 [==============================] - 5s 2ms/step - loss: 0.0913 - accuracy: 0.9652\n",
      "Epoch 79/100\n",
      "1875/1875 [==============================] - 5s 2ms/step - loss: 0.0892 - accuracy: 0.9657\n",
      "Epoch 80/100\n",
      "1875/1875 [==============================] - 4s 2ms/step - loss: 0.0932 - accuracy: 0.9655\n",
      "Epoch 81/100\n",
      "1875/1875 [==============================] - 5s 2ms/step - loss: 0.0855 - accuracy: 0.9675\n",
      "Epoch 82/100\n",
      "1875/1875 [==============================] - 5s 2ms/step - loss: 0.0880 - accuracy: 0.9654\n",
      "Epoch 83/100\n",
      "1875/1875 [==============================] - 5s 2ms/step - loss: 0.0853 - accuracy: 0.9675\n",
      "Epoch 84/100\n",
      "1875/1875 [==============================] - 5s 2ms/step - loss: 0.0880 - accuracy: 0.9667\n",
      "Epoch 85/100\n",
      "1875/1875 [==============================] - 5s 2ms/step - loss: 0.0846 - accuracy: 0.9678\n",
      "Epoch 86/100\n",
      "1875/1875 [==============================] - 5s 2ms/step - loss: 0.0843 - accuracy: 0.9681\n",
      "Epoch 87/100\n",
      "1875/1875 [==============================] - 5s 2ms/step - loss: 0.0860 - accuracy: 0.9684\n",
      "Epoch 88/100\n",
      "1875/1875 [==============================] - 5s 2ms/step - loss: 0.0833 - accuracy: 0.9683\n",
      "Epoch 89/100\n",
      "1875/1875 [==============================] - 5s 2ms/step - loss: 0.0844 - accuracy: 0.9683\n",
      "Epoch 90/100\n",
      "1875/1875 [==============================] - 5s 2ms/step - loss: 0.0809 - accuracy: 0.9693\n",
      "Epoch 91/100\n",
      "1875/1875 [==============================] - 5s 2ms/step - loss: 0.0831 - accuracy: 0.9684\n",
      "Epoch 92/100\n",
      "1875/1875 [==============================] - 5s 2ms/step - loss: 0.0810 - accuracy: 0.9699\n",
      "Epoch 93/100\n",
      "1875/1875 [==============================] - 5s 2ms/step - loss: 0.0794 - accuracy: 0.9697\n",
      "Epoch 94/100\n",
      "1875/1875 [==============================] - 5s 2ms/step - loss: 0.0769 - accuracy: 0.9704\n",
      "Epoch 95/100\n",
      "1875/1875 [==============================] - 5s 2ms/step - loss: 0.0834 - accuracy: 0.9689\n",
      "Epoch 96/100\n",
      "1875/1875 [==============================] - 5s 2ms/step - loss: 0.0723 - accuracy: 0.9722\n",
      "Epoch 97/100\n",
      "1875/1875 [==============================] - 5s 2ms/step - loss: 0.0796 - accuracy: 0.9699\n",
      "Epoch 98/100\n",
      "1875/1875 [==============================] - 5s 2ms/step - loss: 0.0770 - accuracy: 0.9705\n",
      "Epoch 99/100\n",
      "1875/1875 [==============================] - 5s 3ms/step - loss: 0.0785 - accuracy: 0.9703\n",
      "Epoch 100/100\n",
      "1875/1875 [==============================] - 4s 2ms/step - loss: 0.0731 - accuracy: 0.9722\n"
     ]
    },
    {
     "data": {
      "text/plain": [
       "<keras.callbacks.History at 0x7fea535d7190>"
      ]
     },
     "execution_count": 19,
     "metadata": {},
     "output_type": "execute_result"
    }
   ],
   "source": [
    "# Choisissons certains Hyperparameters\n",
    "training_epochs = 100\n",
    "\n",
    "classifierNN3L.compile(optimizer=keras.optimizers.Adam(),loss=tf.keras.losses.SparseCategoricalCrossentropy(from_logits=True),metrics=['accuracy'])\n",
    "\n",
    "classifierNN3L.fit(x_train, y_train, epochs=training_epochs)\n",
    "\n"
   ]
  },
  {
   "cell_type": "code",
   "execution_count": 21,
   "metadata": {
    "colab": {
     "base_uri": "https://localhost:8080/"
    },
    "id": "RSdI_ajz5SaG",
    "outputId": "9ab6f93d-b981-491e-acbf-880177437434"
   },
   "outputs": [
    {
     "name": "stdout",
     "output_type": "stream",
     "text": [
      "313/313 - 1s - loss: 0.4929 - accuracy: 0.8273 - 650ms/epoch - 2ms/step\n",
      "[0.49292320013046265, 0.8273000121116638]\n"
     ]
    }
   ],
   "source": [
    "eval = classifierNN3L.evaluate(x_test,  y_test, verbose=2)\n",
    "print(eval)"
   ]
  },
  {
   "cell_type": "markdown",
   "metadata": {
    "id": "yTuO5tFYTn_n"
   },
   "source": [
    "#3.2 Early stopping"
   ]
  },
  {
   "cell_type": "markdown",
   "metadata": {
    "id": "YlkT9uxlTlA6"
   },
   "source": [
    "Pour mieux observer l'overfitting : divisons notre training data en tranining et validation, et observons les performances du modèle sur le traning et validation tout au long des epoch.\n",
    "\n",
    "Nous pouvons reserver des données de validation automatiquement à travers l'argument validation_split\n",
    "\n",
    "Sachant que, plus on augmente le nombre des épochs, plus on augmente la probabilité d'overfitting. L'accuracy du Training Set s'améliore, alors que celle du Test Set reste nettement inférieure (dont ce n'est pas le résulat recherché).\n",
    "\n",
    "Construisons d'abord le meme modèle que le précédent."
   ]
  },
  {
   "cell_type": "code",
   "execution_count": 22,
   "metadata": {
    "colab": {
     "base_uri": "https://localhost:8080/"
    },
    "id": "RaSXC47ebjFf",
    "outputId": "1ba14b53-da89-472f-df1e-db2c0820d1a1"
   },
   "outputs": [
    {
     "name": "stdout",
     "output_type": "stream",
     "text": [
      "Model: \"sequential_2\"\n",
      "_________________________________________________________________\n",
      " Layer (type)                Output Shape              Param #   \n",
      "=================================================================\n",
      " flatten_2 (Flatten)         (None, 784)               0         \n",
      "                                                                 \n",
      " Hidden_Layer_1 (Dense)      (None, 64)                50240     \n",
      "                                                                 \n",
      " Hidden_Layer_2 (Dense)      (None, 64)                4160      \n",
      "                                                                 \n",
      " Output_Layer (Dense)        (None, 10)                650       \n",
      "                                                                 \n",
      "=================================================================\n",
      "Total params: 55,050\n",
      "Trainable params: 55,050\n",
      "Non-trainable params: 0\n",
      "_________________________________________________________________\n",
      "Epoch 1/100\n",
      "1688/1688 [==============================] - 5s 3ms/step - loss: 0.5201 - accuracy: 0.8169 - val_loss: 0.4053 - val_accuracy: 0.8563\n",
      "Epoch 2/100\n",
      "1688/1688 [==============================] - 4s 3ms/step - loss: 0.3860 - accuracy: 0.8597 - val_loss: 0.3802 - val_accuracy: 0.8605\n",
      "Epoch 3/100\n",
      "1688/1688 [==============================] - 4s 3ms/step - loss: 0.3482 - accuracy: 0.8740 - val_loss: 0.3683 - val_accuracy: 0.8670\n",
      "Epoch 4/100\n",
      "1688/1688 [==============================] - 8s 5ms/step - loss: 0.3248 - accuracy: 0.8816 - val_loss: 0.3385 - val_accuracy: 0.8738\n",
      "Epoch 5/100\n",
      "1688/1688 [==============================] - 4s 3ms/step - loss: 0.3081 - accuracy: 0.8868 - val_loss: 0.3215 - val_accuracy: 0.8850\n",
      "Epoch 6/100\n",
      "1688/1688 [==============================] - 4s 3ms/step - loss: 0.2925 - accuracy: 0.8919 - val_loss: 0.3326 - val_accuracy: 0.8803\n",
      "Epoch 7/100\n",
      "1688/1688 [==============================] - 5s 3ms/step - loss: 0.2801 - accuracy: 0.8953 - val_loss: 0.3466 - val_accuracy: 0.8767\n",
      "Epoch 8/100\n",
      "1688/1688 [==============================] - 5s 3ms/step - loss: 0.2715 - accuracy: 0.8993 - val_loss: 0.3330 - val_accuracy: 0.8755\n",
      "Epoch 9/100\n",
      "1688/1688 [==============================] - 5s 3ms/step - loss: 0.2598 - accuracy: 0.9039 - val_loss: 0.3438 - val_accuracy: 0.8800\n",
      "Epoch 10/100\n",
      "1688/1688 [==============================] - 5s 3ms/step - loss: 0.2550 - accuracy: 0.9052 - val_loss: 0.3285 - val_accuracy: 0.8843\n",
      "Epoch 11/100\n",
      "1688/1688 [==============================] - 4s 3ms/step - loss: 0.2443 - accuracy: 0.9085 - val_loss: 0.3269 - val_accuracy: 0.8847\n",
      "Epoch 12/100\n",
      "1688/1688 [==============================] - 5s 3ms/step - loss: 0.2396 - accuracy: 0.9106 - val_loss: 0.3260 - val_accuracy: 0.8900\n",
      "Epoch 13/100\n",
      "1688/1688 [==============================] - 5s 3ms/step - loss: 0.2315 - accuracy: 0.9134 - val_loss: 0.3488 - val_accuracy: 0.8820\n",
      "Epoch 14/100\n",
      "1688/1688 [==============================] - 5s 3ms/step - loss: 0.2256 - accuracy: 0.9136 - val_loss: 0.3387 - val_accuracy: 0.8840\n",
      "Epoch 15/100\n",
      "1688/1688 [==============================] - 5s 3ms/step - loss: 0.2204 - accuracy: 0.9162 - val_loss: 0.3375 - val_accuracy: 0.8870\n"
     ]
    },
    {
     "data": {
      "text/plain": [
       "<keras.callbacks.History at 0x7fea2d57a430>"
      ]
     },
     "execution_count": 22,
     "metadata": {},
     "output_type": "execute_result"
    }
   ],
   "source": [
    "# on choisi un NN séquentiel\n",
    "classifierNN3L = models.Sequential()\n",
    "\n",
    "# on rajoute les layers qu on veut\n",
    "classifierNN3L.add(layers.InputLayer(input_shape=(28,28,)))\n",
    "classifierNN3L.add(layers.Flatten())\n",
    "classifierNN3L.add(layers.Dense(64, activation='relu', name = \"Hidden_Layer_1\"))\n",
    "classifierNN3L.add(layers.Dense(64, activation='relu', name = \"Hidden_Layer_2\"))\n",
    "classifierNN3L.add(layers.Dense(10, activation='softmax', name = \"Output_Layer\"))\n",
    "\n",
    "#affichons un résumé de notre modèle\n",
    "classifierNN3L.summary()\n",
    "\n",
    "training_epochs = 100\n",
    "\n",
    "classifierNN3L.compile(optimizer=keras.optimizers.Adam(),loss=tf.keras.losses.SparseCategoricalCrossentropy(from_logits=True),metrics=['accuracy'])\n",
    "\n",
    "classifierNN3L.fit(x_train, y_train, epochs=training_epochs, validation_split = 0.1, callbacks=[tf.keras.callbacks.EarlyStopping(monitor='val_loss', patience=10)])     "
   ]
  },
  {
   "cell_type": "code",
   "execution_count": 23,
   "metadata": {
    "colab": {
     "base_uri": "https://localhost:8080/"
    },
    "id": "PnGU9pTUdXx-",
    "outputId": "ade8ced0-217e-4225-9ccb-ab5309623998"
   },
   "outputs": [
    {
     "name": "stdout",
     "output_type": "stream",
     "text": [
      "313/313 - 0s - loss: 0.3406 - accuracy: 0.8841 - 404ms/epoch - 1ms/step\n",
      "[0.49292320013046265, 0.8273000121116638]\n"
     ]
    }
   ],
   "source": [
    "eval_early_stopping = classifierNN3L.evaluate(x_test,  y_test, verbose=2)\n",
    "print(eval)"
   ]
  },
  {
   "cell_type": "markdown",
   "metadata": {
    "id": "QbC7KMv4XuyU"
   },
   "source": [
    "On remarque une légère amélioration de la valeur d'accuracy en utilisant le EarlyStopping callback."
   ]
  },
  {
   "cell_type": "markdown",
   "metadata": {
    "id": "Br2BMqx8HNL3"
   },
   "source": [
    "# 3.2 Classificateur 2: CNN avec architecture inspirée de LeNet5"
   ]
  },
  {
   "cell_type": "markdown",
   "metadata": {
    "id": "bjzxApT65iUF"
   },
   "source": [
    "Nous allons à présent implémenter une architecture inspirée de LeNet5, vu en cour.\n",
    "\n",
    "Rappel: L'archi LeNet5 comporte ces composants:\n",
    "\n",
    "Couche convolution: 6 filtres (5*5) , stride = 1\n",
    "\n",
    "Couche Pooling: Average Pooling (2*2), stride = 2\n",
    "\n",
    "Couche Convolution: 16 filtres (5*5), stride = 1\n",
    "\n",
    "Couche Pooling: : Average Pooling (2*2), stride = 2\n",
    "\n",
    "Couche Dense (120)\n",
    "\n",
    "Couche Dense (84)\n",
    "\n",
    "Couche Output Dense (10)\n",
    "\n",
    "![image.png](data:image/png;base64,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)\n",
    "\n"
   ]
  },
  {
   "cell_type": "code",
   "execution_count": 24,
   "metadata": {
    "colab": {
     "base_uri": "https://localhost:8080/"
    },
    "id": "hsc3wn8yHsUu",
    "outputId": "bb0a6f2c-825a-49c1-9b8d-7ddb57ebef61"
   },
   "outputs": [
    {
     "name": "stdout",
     "output_type": "stream",
     "text": [
      "Model: \"sequential_3\"\n",
      "_________________________________________________________________\n",
      " Layer (type)                Output Shape              Param #   \n",
      "=================================================================\n",
      " conv2d (Conv2D)             (None, 24, 24, 6)         156       \n",
      "                                                                 \n",
      " max_pooling2d (MaxPooling2D  (None, 12, 12, 6)        0         \n",
      " )                                                               \n",
      "                                                                 \n",
      " conv2d_1 (Conv2D)           (None, 8, 8, 15)          2265      \n",
      "                                                                 \n",
      " max_pooling2d_1 (MaxPooling  (None, 4, 4, 15)         0         \n",
      " 2D)                                                             \n",
      "                                                                 \n",
      " flatten_3 (Flatten)         (None, 240)               0         \n",
      "                                                                 \n",
      " dense (Dense)               (None, 120)               28920     \n",
      "                                                                 \n",
      " dense_1 (Dense)             (None, 84)                10164     \n",
      "                                                                 \n",
      " dense_2 (Dense)             (None, 10)                850       \n",
      "                                                                 \n",
      "=================================================================\n",
      "Total params: 42,355\n",
      "Trainable params: 42,355\n",
      "Non-trainable params: 0\n",
      "_________________________________________________________________\n"
     ]
    }
   ],
   "source": [
    "modelLeNet = models.Sequential()\n",
    "\n",
    "# la couche input\n",
    "modelLeNet.add(layers.InputLayer(input_shape=(28,28,1)))\n",
    "# les couches convolution et pooling\n",
    "modelLeNet.add(layers.Conv2D(6, (5, 5), activation='relu'))\n",
    "modelLeNet.add(layers.MaxPooling2D((2, 2), strides=2))\n",
    "modelLeNet.add(layers.Conv2D(15, (5, 5), activation='relu'))\n",
    "modelLeNet.add(layers.MaxPooling2D((2, 2), strides=2))\n",
    "\n",
    "# on rajoute les layers du fully conneced, on applatit le volume final d'abord\n",
    "modelLeNet.add(layers.Flatten(input_shape = (28,28,1)))\n",
    "modelLeNet.add(layers.Dense(120, activation='relu'))\n",
    "modelLeNet.add(layers.Dense(84, activation='relu'))\n",
    "modelLeNet.add(layers.Dense(10, activation='softmax'))\n",
    "\n",
    "#affichons un résumé de notre modèle\n",
    "modelLeNet.summary()"
   ]
  },
  {
   "cell_type": "markdown",
   "metadata": {
    "id": "Mon0sDW09ms9"
   },
   "source": [
    "Compilons puis entrainons notre modèle.\n",
    "\n",
    "Pour observer les performances du modèle, il est intéressant d'utiliser un ensemble de validation et comparer les performances dans chaque epoch."
   ]
  },
  {
   "cell_type": "code",
   "execution_count": 6,
   "metadata": {
    "colab": {
     "base_uri": "https://localhost:8080/"
    },
    "id": "u7-dXT3iiZw1",
    "outputId": "68d465f3-8145-43ec-c194-be305a2c47c9"
   },
   "outputs": [
    {
     "name": "stdout",
     "output_type": "stream",
     "text": [
      "Epoch 1/10\n"
     ]
    },
    {
     "name": "stderr",
     "output_type": "stream",
     "text": [
      "/usr/local/lib/python3.8/dist-packages/tensorflow/python/util/dispatch.py:1082: UserWarning: \"`sparse_categorical_crossentropy` received `from_logits=True`, but the `output` argument was produced by a sigmoid or softmax activation and thus does not represent logits. Was this intended?\"\n",
      "  return dispatch_target(*args, **kwargs)\n"
     ]
    },
    {
     "name": "stdout",
     "output_type": "stream",
     "text": [
      "1929/1929 [==============================] - 33s 16ms/step - loss: 0.5468 - accuracy: 0.8023 - val_loss: 0.3997 - val_accuracy: 0.8542\n",
      "Epoch 2/10\n",
      "1929/1929 [==============================] - 36s 18ms/step - loss: 0.3650 - accuracy: 0.8670 - val_loss: 0.3452 - val_accuracy: 0.8745\n",
      "Epoch 3/10\n",
      "1929/1929 [==============================] - 31s 16ms/step - loss: 0.3209 - accuracy: 0.8829 - val_loss: 0.3309 - val_accuracy: 0.8765\n",
      "Epoch 4/10\n",
      "1929/1929 [==============================] - 31s 16ms/step - loss: 0.2930 - accuracy: 0.8913 - val_loss: 0.3213 - val_accuracy: 0.8805\n",
      "Epoch 5/10\n",
      "1929/1929 [==============================] - 31s 16ms/step - loss: 0.2718 - accuracy: 0.8984 - val_loss: 0.3077 - val_accuracy: 0.8845\n",
      "Epoch 6/10\n",
      "1929/1929 [==============================] - 30s 16ms/step - loss: 0.2586 - accuracy: 0.9037 - val_loss: 0.2938 - val_accuracy: 0.8907\n",
      "Epoch 7/10\n",
      "1929/1929 [==============================] - 32s 16ms/step - loss: 0.2449 - accuracy: 0.9095 - val_loss: 0.2892 - val_accuracy: 0.8933\n",
      "Epoch 8/10\n",
      "1929/1929 [==============================] - 31s 16ms/step - loss: 0.2306 - accuracy: 0.9134 - val_loss: 0.2976 - val_accuracy: 0.8945\n",
      "Epoch 9/10\n",
      "1929/1929 [==============================] - 32s 17ms/step - loss: 0.2189 - accuracy: 0.9177 - val_loss: 0.3035 - val_accuracy: 0.8912\n",
      "Epoch 10/10\n",
      "1929/1929 [==============================] - 31s 16ms/step - loss: 0.2116 - accuracy: 0.9195 - val_loss: 0.2814 - val_accuracy: 0.8977\n"
     ]
    }
   ],
   "source": [
    "modelLeNet.compile(optimizer='adam',\n",
    "              loss=tf.keras.losses.SparseCategoricalCrossentropy(from_logits=True),\n",
    "              metrics=['accuracy'])\n",
    "\n",
    "training_epochs = 10\n",
    "\n",
    "history = modelLeNet.fit(x_train, y_train, validation_split = 0.1, epochs=training_epochs)"
   ]
  },
  {
   "cell_type": "markdown",
   "metadata": {
    "id": "dnRcrnHj9vPG"
   },
   "source": [
    "Affichons l'évolution des performances par epoch pour les données train et validation."
   ]
  },
  {
   "cell_type": "code",
   "execution_count": 7,
   "metadata": {
    "colab": {
     "base_uri": "https://localhost:8080/",
     "height": 300
    },
    "id": "PYLY1SNG9zql",
    "outputId": "580acfb6-be61-4113-abb7-65d5d9d52879"
   },
   "outputs": [
    {
     "data": {
      "text/plain": [
       "<matplotlib.legend.Legend at 0x7fd979df7cd0>"
      ]
     },
     "execution_count": 7,
     "metadata": {},
     "output_type": "execute_result"
    },
    {
     "data": {
      "image/png": "[encoded data removed]",
      "text/plain": [
       "<Figure size 432x288 with 1 Axes>"
      ]
     },
     "metadata": {
      "needs_background": "light"
     },
     "output_type": "display_data"
    }
   ],
   "source": [
    "plt.plot(history.history['accuracy'], label='training accuracy')\n",
    "plt.plot(history.history['val_accuracy'], label = 'validation_accuracy' )\n",
    "plt.xlabel('Epoch')\n",
    "plt.ylabel('Accuracy')\n",
    "plt.ylim([0.8, 1])\n",
    "plt.legend(loc='upper right')"
   ]
  },
  {
   "cell_type": "code",
   "execution_count": 63,
   "metadata": {
    "colab": {
     "base_uri": "https://localhost:8080/"
    },
    "id": "RsZUiQr1pEcg",
    "outputId": "7d852772-94fe-40de-80c1-b21d624d76c7"
   },
   "outputs": [
    {
     "name": "stdout",
     "output_type": "stream",
     "text": [
      "313/313 - 2s - loss: 0.3587 - accuracy: 0.8934 - 2s/epoch - 6ms/step\n"
     ]
    }
   ],
   "source": [
    "# performances sur le test set\n",
    "test_loss, test_acc = modelLeNet.evaluate(x_test, y_test, verbose=2)\n"
   ]
  },
  {
   "cell_type": "markdown",
   "metadata": {
    "id": "zX73sTIpYXCm"
   },
   "source": [
    "En conclusion, on peut dire que l'architecture inspirée de LENET5 a prouvé les meilleurs performances, tout en testant les meilleurs combinaisons des hyperparamètres choisis et (epochs, pourcentage du split des données de validation & training...)\n"
   ]
  }
 ],
 "metadata": {
  "colab": {
   "provenance": [],
   "toc_visible": true
  },
  "gpuClass": "standard",
  "kernelspec": {
   "display_name": "Python 3 (ipykernel)",
   "language": "python",
   "name": "python3"
  },
  "language_info": {
   "codemirror_mode": {
    "name": "ipython",
    "version": 3
   },
   "file_extension": ".py",
   "mimetype": "text/x-python",
   "name": "python",
   "nbconvert_exporter": "python",
   "pygments_lexer": "ipython3",
   "version": "3.10.9"
  }
 },
 "nbformat": 4,
 "nbformat_minor": 1
}
